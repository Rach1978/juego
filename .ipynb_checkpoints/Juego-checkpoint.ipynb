{
 "cells": [
  {
   "cell_type": "code",
   "execution_count": 120,
   "id": "d668ca99",
   "metadata": {},
   "outputs": [],
   "source": [
    "import pandas as pd\n",
    "import numpy as np\n",
    "import re\n",
    "import os\n",
    "import seaborn as sns\n",
    "import matplotlib.pyplot as plt"
   ]
  },
  {
   "cell_type": "code",
   "execution_count": 122,
   "id": "403e1cba",
   "metadata": {},
   "outputs": [],
   "source": [
    "lista = []\n",
    "\n",
    "for file in os.listdir():\n",
    "    if file.endswith(\".txt\"):\n",
    "        with open(file, 'r') as f:\n",
    "            lista.append((file, f.readline().strip()))"
   ]
  },
  {
   "cell_type": "code",
   "execution_count": 123,
   "id": "e92cca6e",
   "metadata": {},
   "outputs": [],
   "source": [
    "%%capture\n",
    "df = pd.DataFrame(lista, columns=['Nombre', 'Cantidad'])\n",
    "df['Nombre'] = df['Nombre'].str.replace('.txt', '')\n",
    "df['Cantidad'] = df['Cantidad'].astype('int')\n",
    "df.set_index('Nombre', inplace=True)"
   ]
  },
  {
   "cell_type": "code",
   "execution_count": 124,
   "id": "256c91be",
   "metadata": {},
   "outputs": [
    {
     "data": {
      "text/html": [
       "<div>\n",
       "<style scoped>\n",
       "    .dataframe tbody tr th:only-of-type {\n",
       "        vertical-align: middle;\n",
       "    }\n",
       "\n",
       "    .dataframe tbody tr th {\n",
       "        vertical-align: top;\n",
       "    }\n",
       "\n",
       "    .dataframe thead th {\n",
       "        text-align: right;\n",
       "    }\n",
       "</style>\n",
       "<table border=\"1\" class=\"dataframe\">\n",
       "  <thead>\n",
       "    <tr style=\"text-align: right;\">\n",
       "      <th></th>\n",
       "      <th>Cantidad</th>\n",
       "    </tr>\n",
       "    <tr>\n",
       "      <th>Nombre</th>\n",
       "      <th></th>\n",
       "    </tr>\n",
       "  </thead>\n",
       "  <tbody>\n",
       "    <tr>\n",
       "      <th>Andrade</th>\n",
       "      <td>436</td>\n",
       "    </tr>\n",
       "    <tr>\n",
       "      <th>Correcto</th>\n",
       "      <td>525</td>\n",
       "    </tr>\n",
       "    <tr>\n",
       "      <th>Eduardo</th>\n",
       "      <td>659</td>\n",
       "    </tr>\n",
       "  </tbody>\n",
       "</table>\n",
       "</div>"
      ],
      "text/plain": [
       "          Cantidad\n",
       "Nombre            \n",
       "Andrade        436\n",
       "Correcto       525\n",
       "Eduardo        659"
      ]
     },
     "execution_count": 124,
     "metadata": {},
     "output_type": "execute_result"
    }
   ],
   "source": [
    "df"
   ]
  },
  {
   "cell_type": "code",
   "execution_count": 193,
   "id": "6df0461a",
   "metadata": {},
   "outputs": [],
   "source": [
    "predicciones = df.drop('Correcto')[\"Cantidad\"]\n",
    "correcto = df.loc['Correcto']['Cantidad']\n",
    "media = predicciones.mean()\n",
    "media_errores = (predicciones-correcto).abs().mean()\n",
    "error_media = np.abs(media - correcto)"
   ]
  },
  {
   "cell_type": "code",
   "execution_count": 180,
   "id": "1558c103",
   "metadata": {},
   "outputs": [
    {
     "data": {
      "image/png": "[encoded data removed]",
      "text/plain": [
       "<Figure size 432x288 with 1 Axes>"
      ]
     },
     "metadata": {
      "needs_background": "light"
     },
     "output_type": "display_data"
    }
   ],
   "source": [
    "graph = sns.barplot(x=df.drop('Correcto').index,y=predicciones,data=df, palette='Set2')\n",
    "plt.show()"
   ]
  },
  {
   "cell_type": "code",
   "execution_count": 181,
   "id": "653d8b7f",
   "metadata": {},
   "outputs": [
    {
     "data": {
      "image/png": "[encoded data removed]",
      "text/plain": [
       "<Figure size 432x288 with 1 Axes>"
      ]
     },
     "metadata": {
      "needs_background": "light"
     },
     "output_type": "display_data"
    }
   ],
   "source": [
    "graph = sns.barplot(x=df.drop('Correcto').index,y=predicciones,data=df, palette='Set2')\n",
    "graph.axhline(correcto, color='b', linestyle='--', lw=1)\n",
    "graph.annotate('Cantidad correcta', (0, correcto), color='blue')\n",
    "plt.show()"
   ]
  },
  {
   "cell_type": "code",
   "execution_count": 182,
   "id": "9d37bfc6",
   "metadata": {},
   "outputs": [
    {
     "data": {
      "image/png": "[encoded data removed]",
      "text/plain": [
       "<Figure size 432x288 with 1 Axes>"
      ]
     },
     "metadata": {
      "needs_background": "light"
     },
     "output_type": "display_data"
    }
   ],
   "source": [
    "graph = sns.barplot(x=df.drop('Correcto').index,y=predicciones,data=df, palette='Set2')\n",
    "graph.axhline(predicciones.mean(), color='r', linestyle='--', lw=1, label=\"horizontal\")\n",
    "graph.annotate('Media de las predicciones', (0,predicciones.mean()), color='red')\n",
    "graph.axhline(correcto, color='b', linestyle='--', lw=1)\n",
    "graph.annotate('Cantidad correcta', (0,correcto), color='blue')\n",
    "plt.show()"
   ]
  },
  {
   "cell_type": "code",
   "execution_count": 195,
   "id": "6ae576ed",
   "metadata": {},
   "outputs": [
    {
     "data": {
      "text/html": [
       "<div>\n",
       "<style scoped>\n",
       "    .dataframe tbody tr th:only-of-type {\n",
       "        vertical-align: middle;\n",
       "    }\n",
       "\n",
       "    .dataframe tbody tr th {\n",
       "        vertical-align: top;\n",
       "    }\n",
       "\n",
       "    .dataframe thead th {\n",
       "        text-align: right;\n",
       "    }\n",
       "</style>\n",
       "<table border=\"1\" class=\"dataframe\">\n",
       "  <thead>\n",
       "    <tr style=\"text-align: right;\">\n",
       "      <th></th>\n",
       "      <th>Valor</th>\n",
       "    </tr>\n",
       "    <tr>\n",
       "      <th>Atributo</th>\n",
       "      <th></th>\n",
       "    </tr>\n",
       "  </thead>\n",
       "  <tbody>\n",
       "    <tr>\n",
       "      <th>Media predicciones</th>\n",
       "      <td>547.50</td>\n",
       "    </tr>\n",
       "    <tr>\n",
       "      <th>Cantidad correcta</th>\n",
       "      <td>525.00</td>\n",
       "    </tr>\n",
       "    <tr>\n",
       "      <th>Media de los errores</th>\n",
       "      <td>111.50</td>\n",
       "    </tr>\n",
       "    <tr>\n",
       "      <th>Media de los errores %</th>\n",
       "      <td>21.24</td>\n",
       "    </tr>\n",
       "    <tr>\n",
       "      <th>Error de la media</th>\n",
       "      <td>22.50</td>\n",
       "    </tr>\n",
       "    <tr>\n",
       "      <th>Error de la media %</th>\n",
       "      <td>4.29</td>\n",
       "    </tr>\n",
       "  </tbody>\n",
       "</table>\n",
       "</div>"
      ],
      "text/plain": [
       "                         Valor\n",
       "Atributo                      \n",
       "Media predicciones      547.50\n",
       "Cantidad correcta       525.00\n",
       "Media de los errores    111.50\n",
       "Media de los errores %   21.24\n",
       "Error de la media        22.50\n",
       "Error de la media %       4.29"
      ]
     },
     "execution_count": 195,
     "metadata": {},
     "output_type": "execute_result"
    }
   ],
   "source": [
    "resultado = pd.DataFrame([['Media predicciones', media], \n",
    "                          ['Cantidad correcta', correcto],\n",
    "                          ['Media de los errores', media_errores],\n",
    "                          ['Media de los errores %', (100*media_errores/correcto).round(2)],\n",
    "                          ['Error de la media', error_media],\n",
    "                          ['Error de la media %', (100*error_media/correcto).round(2)]\n",
    "                         ], columns=['Atributo', 'Valor'])\n",
    "resultado.set_index('Atributo')"
   ]
  }
 ],
 "metadata": {
  "kernelspec": {
   "display_name": "Python 3",
   "language": "python",
   "name": "python3"
  },
  "language_info": {
   "codemirror_mode": {
    "name": "ipython",
    "version": 3
   },
   "file_extension": ".py",
   "mimetype": "text/x-python",
   "name": "python",
   "nbconvert_exporter": "python",
   "pygments_lexer": "ipython3",
   "version": "3.8.8"
  }
 },
 "nbformat": 4,
 "nbformat_minor": 5
}
